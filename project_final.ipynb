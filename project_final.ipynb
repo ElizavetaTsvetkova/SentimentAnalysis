{
 "cells": [
  {
   "cell_type": "code",
   "execution_count": 25,
   "metadata": {},
   "outputs": [
    {
     "name": "stdout",
     "output_type": "stream",
     "text": [
      "Collecting openpyxl\n",
      "  Downloading openpyxl-3.1.2-py2.py3-none-any.whl (249 kB)\n",
      "\u001b[2K     \u001b[90m━━━━━━━━━━━━━━━━━━━━━━━━━━━━━━━━━━━━━━━\u001b[0m \u001b[32m250.0/250.0 kB\u001b[0m \u001b[31m3.8 MB/s\u001b[0m eta \u001b[36m0:00:00\u001b[0ma \u001b[36m0:00:01\u001b[0m\n",
      "\u001b[?25hCollecting et-xmlfile (from openpyxl)\n",
      "  Downloading et_xmlfile-1.1.0-py3-none-any.whl (4.7 kB)\n",
      "Installing collected packages: et-xmlfile, openpyxl\n",
      "Successfully installed et-xmlfile-1.1.0 openpyxl-3.1.2\n"
     ]
    }
   ],
   "source": [
    "# !pip3 install pandas\n",
    "# !pip3 install selenium\n",
    "# !pip3 install tqdm\n",
    "# !pip3 install matplotlib\n",
    "# !pip3 install plotly\n",
    "# !pip3 install ipython-autotime\n",
    "# !pip3 install beautifulsoup4\n",
    "# !pip3 install undetected_chromedriver\n",
    "# !pip3 install textblob\n",
    "# !pip3 install polyglot\n",
    "# !pip3 install icu\n",
    "# !pip3 install morfessor\n",
    "# !pip3 install pycld2\n",
    "# !pip3 install pyqt5\n",
    "# !pip3 install openpyxl"
   ]
  },
  {
   "cell_type": "code",
   "execution_count": 2,
   "metadata": {},
   "outputs": [],
   "source": [
    "# !/Library/Developer/CommandLineTools/usr/bin/python3 -m pip install --upgrade pip"
   ]
  },
  {
   "cell_type": "code",
   "execution_count": 3,
   "metadata": {},
   "outputs": [],
   "source": [
    "# необходимо установить chromedriver https://chromedriver.chromium.org/home"
   ]
  },
  {
   "cell_type": "code",
   "execution_count": 4,
   "metadata": {},
   "outputs": [
    {
     "name": "stdout",
     "output_type": "stream",
     "text": [
      "time: 146 µs (started: 2023-06-13 15:46:32 +04:00)\n"
     ]
    }
   ],
   "source": [
    "%load_ext autotime"
   ]
  },
  {
   "cell_type": "code",
   "execution_count": 2,
   "metadata": {},
   "outputs": [],
   "source": [
    "import pandas as pd\n",
    "import numpy as np\n",
    "from bs4 import BeautifulSoup\n",
    "from selenium import webdriver\n",
    "from selenium.webdriver.common.by import By\n",
    "# from selenium.webdriver.common.keys import Keys\n",
    "from selenium.webdriver.common.action_chains import ActionChains\n",
    "from selenium.webdriver.chrome.service import Service\n",
    "import time\n",
    "from tqdm import tqdm\n",
    "import undetected_chromedriver as uc\n",
    "import pickle\n",
    "import textblob\n",
    "import json\n",
    "import matplotlib.pyplot as plt"
   ]
  },
  {
   "cell_type": "code",
   "execution_count": 6,
   "metadata": {},
   "outputs": [
    {
     "name": "stdout",
     "output_type": "stream",
     "text": [
      "time: 18.8 s (started: 2023-06-13 15:46:35 +04:00)\n"
     ]
    }
   ],
   "source": [
    "browser = uc.Chrome(executable_path=\"/Users/elizavetatsvetkova/Desktop/Проект 2022-23/chromedriver\")\n",
    "browser.get(\"https://www.google.com\")"
   ]
  },
  {
   "cell_type": "code",
   "execution_count": 7,
   "metadata": {},
   "outputs": [
    {
     "name": "stdout",
     "output_type": "stream",
     "text": [
      "time: 122 µs (started: 2023-06-13 15:46:54 +04:00)\n"
     ]
    }
   ],
   "source": [
    "# pickle.dump(browser.get_cookies(), open(\"cookies.pkl\", \"wb\"))"
   ]
  },
  {
   "cell_type": "code",
   "execution_count": 8,
   "metadata": {},
   "outputs": [
    {
     "name": "stdout",
     "output_type": "stream",
     "text": [
      "time: 31.9 ms (started: 2023-06-13 15:46:54 +04:00)\n"
     ]
    }
   ],
   "source": [
    "cookies = pickle.load(open(\"cookies.pkl\", \"rb\"))\n",
    "for cookie in cookies:\n",
    "    browser.add_cookie(cookie)"
   ]
  },
  {
   "cell_type": "code",
   "execution_count": 6,
   "metadata": {},
   "outputs": [
    {
     "name": "stdout",
     "output_type": "stream",
     "text": [
      "time: 111 µs (started: 2023-06-11 13:44:43 +04:00)\n"
     ]
    }
   ],
   "source": [
    "# webdriver_path = \"/chromedriver\"\n",
    "# browser = webdriver.Chrome(executable_path=webdriver_path)"
   ]
  },
  {
   "cell_type": "code",
   "execution_count": 42,
   "metadata": {},
   "outputs": [],
   "source": [
    "url = \"https://yandex.ru/maps/213/moscow/search/%D0%A1%D0%BF%D0%BE%D1%80%D1%82/?ll=37.641844%2C55.694084&page=6&sctx=ZAAAAAgBEAAaKAoSCf%2FPYb687kJAERzPZ0C92UtAEhIJxFp8CoABFUARECVa8niaAEAiBgABAgMEBSgKOABAAUgBYjJjb2xsZWN0aW9uc19yYW5raW5nX21vZGVsPWNvbGxlY3Rpb25zX3JlbGV2X3dfZHNzbWIpY29sbGVjdGlvbnNfcmFua2luZ19tb2RlbD1jb2xsX3JlbF9hc3Nlc3NiJWNvbGxlY3Rpb25zX3JlbGV2X3RocmVzaG9sZD0xMDA3MDAwMDBiJWNvbGxlY3Rpb25zX3JlbGV2X3RocmVzaG9sZD0xMDA2MDAwMDBiIGNvbGxlY3Rpb25zX3JldHVybl9ieV9nZW9pZD10cnVlYjlyZWFycj1zY2hlbWVfTG9jYWwvR2VvL0NvbGxlY3Rpb25zL01peEVhY2hOUG9zaXRpb249MTAwMDBiN3JlYXJyPXNjaGVtZV9Mb2NhbC9HZW8vQ29sbGVjdGlvbnMvRmlyc3RQb3NpdGlvblRvTWl4PTNiMnJlYXJyPXNjaGVtZV9Mb2NhbC9HZW8vQ29sbGVjdGlvbnMvRW5hYmxlZE1peD10cnVlYjlyZWFycj1zY2hlbWVfTG9jYWwvR2VvL1N1YnRpdGxlcy9Vc2VQaW5TdWJ0aXRsZXNGb3JtdWxhPTFqAmt6nQHNzEw9oAEAqAEAvQF3UKlfwgGhBoW5h5fmBpa2gqbsBqKEtv5CotHstvEBu87i5OwGl46e%2BwOjqvO9Pu2hhI%2BWBcSY%2F%2BkDjqTa%2BPoGz5%2FpmcMBr%2FHr6gOh6dLdA9WQ1ucDg6D0qOgB5YT7zaIB%2B%2BG%2FlQWw1Yi0BPTAkekDrMH1twaYppn%2BA%2FjFz8QEmKvzi5sFsN%2F%2Fm9oBytzFsvMC7ITBnQSoha2NBNH2%2F5YE4dON1MYFyLbtigW2x9qlBKqXtuID7Mr5nZ0D1MS08kHd2M7J%2FwSxhsj3jwKP%2B8zZ8gaC583y5QSIm%2Fm63gPivq7eA7G0orUUyZvn9e8Dtbvb7APtiZqhBMPu0YEEiaeR8APvlZeABujqmM8E9raZmgXbjsXkZPi09OaKBpKPjYsHsPXZ6wPs6vy6BLfxqN0GiaCLgp8GyNygwLEBqKb8vcYFr9G0iasD37GM5gOg3L6PBPvzzOFQkJG544QEjOvC%2FAOevJKxBuXXiuCrBNn54fADoe3FggSth86XggTHiNbqA9Ws5JYF0vW41QWHisryBI6L%2FJUE7fWMkASCsL%2FLBpfN9YYE5PvGp6sGpI7S4wPq0svtA%2Faj%2BfcD3LimkFL8u7%2FvywaCgcKFBPiV%2Fo4E%2Bu79xc0CvprxxgTEnq%2FbkgTTtOT9nATN95H%2F3wLOvse4BN3uk6kEndCfzoAD9b%2FI1gSLjY%2BVBMyv2JQEwNaf8ATU5dXP2QHjjIqCBPXJxK3yA8OK3J34AYH2n8nPAeiAjbCtBezM9sUE%2B5ae5AOhnoHnvgT5jp%2FazgWmidTaVa32x6sE%2FPbx%2BAOM0c2ZmQOAoeytBNDM0pXSBZmLrd0DqLOe5wO36bKdBf3zteUDvKXJygTYn7T2A%2BPt9ZwEvZSdvgTujbmXBv7S14UE1OvC9%2FQG8IP62AS2u7OrBO3HwZYFjf6f%2BAP1mrTzA46ahZuQAtOE5uwEx52zmQSyxdCkkgWh54%2FMtgXWnPyHBJrEn4jBA6i6tZsEh9n5jgT4u%2Bf%2B9QWBhZ3GBsi%2Fo4j%2FArj4%2Fo8E1K2%2FiATezu2BBKadv4UFht35mgWExYj2BNTb6Z8Esa%2Ff7wSdqfayBuoBAPIBAPgBBYICCtCh0L%2FQvtGA0YKKAkcxODQxMDczNjMkNDE0MzAwOTQxNzUkMTg0MTA3MzEzJDE4NDEwNzI5NyQxODQxMDcyNzUkMTg0MTA3MzE1JDE4NDEwNzM2MZICAJoCDGRlc2t0b3AtbWFwc6oC6gE0Nzg3NzM2MDgsNjAwMzE4NCwyMTE1MDY2NTg1OTUsNzA4MTU5MjcxLDIzODc0NDY2MjUyOCwzODA5NTg1NjU0MSwxOTcxODU1ODg0LDcxNDA4NTU4NDQ1LDIyNjU0ODA5NDUxMCwxOTAyNzY2MzM5MzgsMjExODMwMTA0MTg4LDIwNTE2NDk2MjU1LDI0MDEyMjI1OTgzMywxNTMwNDU0OTU5MDgsODQ5NTY1NjU4OTgsNzkwMDAyNDY1MjUsNzMyMTkzNTI0MjMsMjU3MjIwMTc2LDE3NTkzMjcwOTI2OCwyNDE4NTAxMTI%3D&sll=37.641844%2C55.694084&sspn=2.833765%2C1.098313&z=9\""
   ]
  },
  {
   "cell_type": "code",
   "execution_count": 43,
   "metadata": {},
   "outputs": [],
   "source": [
    "browser.get(url)\n",
    "# browser.maximize_window() # проверить про full screen\n",
    "# browser.fullscreen_window()\n",
    "time.sleep(10)"
   ]
  },
  {
   "cell_type": "code",
   "execution_count": 96,
   "metadata": {},
   "outputs": [],
   "source": [
    "with open(\"yandex_maps_.html\") as fp:\n",
    "    soup2 = BeautifulSoup(fp, 'html.parser')"
   ]
  },
  {
   "cell_type": "code",
   "execution_count": 97,
   "metadata": {},
   "outputs": [],
   "source": [
    "all_places = list(soup2.find_all(\"div\", {\"class\": \"search-snippet-view__body _type_business\"}))"
   ]
  },
  {
   "cell_type": "code",
   "execution_count": 7,
   "metadata": {},
   "outputs": [
    {
     "name": "stdout",
     "output_type": "stream",
     "text": [
      "time: 261 µs (started: 2023-06-11 13:44:47 +04:00)\n"
     ]
    }
   ],
   "source": [
    "def get_content_places(list_of_all_places):\n",
    "    html_source = browser.page_source\n",
    "    soup = BeautifulSoup(html_source, \"html.parser\")\n",
    "    all_places = list(soup.find_all(\"div\", {\"class\": \"search-snippet-view__body _type_business\"}))\n",
    "    # print(all_places)\n",
    "\n",
    "    list_of_all_places.extend(all_places)\n",
    "\n",
    "    # print(len(all_places), len(list(set(list_of_all_places))))\n",
    "    return(list(set(list_of_all_places)))"
   ]
  },
  {
   "cell_type": "code",
   "execution_count": 8,
   "metadata": {},
   "outputs": [
    {
     "name": "stdout",
     "output_type": "stream",
     "text": [
      "time: 1.72 ms (started: 2023-06-11 13:44:49 +04:00)\n"
     ]
    }
   ],
   "source": [
    "# лево верх\n",
    "url1 = \"https://yandex.ru/maps/213/moscow/search/%D0%A1%D0%BF%D0%BE%D1%80%D1%82/?filter=alternate_vertical%3ARequestWindow&ll=37.411862%2C55.948330&page=6&sctx=ZAAAAAgBEAAaKAoSCf%2FPYb687kJAERzPZ0C92UtAEhIJxFp8CoABFUARECVa8niaAEAiBgABAgMEBSgKOABA1QFIAWIyY29sbGVjdGlvbnNfcmFua2luZ19tb2RlbD1jb2xsZWN0aW9uc19yZWxldl93X2Rzc21iKWNvbGxlY3Rpb25zX3JhbmtpbmdfbW9kZWw9Y29sbF9yZWxfYXNzZXNzYiBjb2xsZWN0aW9uc19yZXR1cm5fYnlfZ2VvaWQ9dHJ1ZWIlY29sbGVjdGlvbnNfcmVsZXZfdGhyZXNob2xkPTEwMDcwMDAwMGIlY29sbGVjdGlvbnNfcmVsZXZfdGhyZXNob2xkPTEwMDYwMDAwMGI5cmVhcnI9c2NoZW1lX0xvY2FsL0dlby9Db2xsZWN0aW9ucy9NaXhFYWNoTlBvc2l0aW9uPTEwMDAwYjdyZWFycj1zY2hlbWVfTG9jYWwvR2VvL0NvbGxlY3Rpb25zL0ZpcnN0UG9zaXRpb25Ub01peD0zYjlyZWFycj1zY2hlbWVfTG9jYWwvR2VvL1N1YnRpdGxlcy9Vc2VQaW5TdWJ0aXRsZXNGb3JtdWxhPTFiMnJlYXJyPXNjaGVtZV9Mb2NhbC9HZW8vQ29sbGVjdGlvbnMvRW5hYmxlZE1peD10cnVlagJrep0BzcxMPaABAKgBAL0Bd1CpX8IBjgGNrL%2B4Bv%2Bu0%2F7GBqGegee%2BBJXky8ea6Kv5mQHQ%2B%2BGuOK%2Fx6%2BoDxJj%2F6QPCueKcBJbG8ecDyL%2F549gD17%2BUpJUG5%2BLqjvwFsNWItATK3MWy8wKrvO6Q6gPogI2wrQXbjsXkZImnkfADne7m1%2BQF4r6u3gOqs66X%2BgPq0svtA%2Fa2mZoFz5%2FpmcMBhbmHl%2BYG6gEA8gEA%2BAEAggIK0KHQv9C%2B0YDRgooCRzE4NDEwNzM2MyQ0MTQzMDA5NDE3NSQxODQxMDczMTMkMTg0MTA3Mjk3JDE4NDEwNzI3NSQxODQxMDczMTUkMTg0MTA3MzYxkgIAmgIMZGVza3RvcC1tYXBzqgLfATYwMDMxODQsNzA4MTU5MjcxLDE5MDI3NjYzMzkzOCwyNTcyMjAxNzYsMTQxMTU2MDg1MTkyLDIxMTUwNjY1ODU5NSw3MTQwODU1ODQ0NSwzODA5NTg1NjU0MSwyMDUxNjQ5NjI1NSwyNDAxMjIyNTk4MzMsMjM4NzQ0NjYyNTI4LDIxMTgzMDEwNDE4OCwxOTcxODU1ODg0LDI2NTMzMzIxMDE5LDcwNTc3MjU4NzYxLDEwOTcwNTA3MTc3Miw3MzIxOTM1MjQyMyw3OTAwMDI0NjUyNSw0Nzg3NzM2MDg%3D&sll=37.411862%2C55.948330&sspn=0.954436%2C0.392705&z=10.46\"\n",
    "\n",
    "# право верх\n",
    "url2 = \"https://yandex.ru/maps/213/moscow/search/%D0%A1%D0%BF%D0%BE%D1%80%D1%82/?ll=38.015708%2C55.966438&page=6&sctx=ZAAAAAgBEAAaKAoSCf%2FPYb687kJAERzPZ0C92UtAEhIJxFp8CoABFUARECVa8niaAEAiBgABAgMEBSgKOABAAUgBYjJjb2xsZWN0aW9uc19yYW5raW5nX21vZGVsPWNvbGxlY3Rpb25zX3JlbGV2X3dfZHNzbWIpY29sbGVjdGlvbnNfcmFua2luZ19tb2RlbD1jb2xsX3JlbF9hc3Nlc3NiJWNvbGxlY3Rpb25zX3JlbGV2X3RocmVzaG9sZD0xMDA3MDAwMDBiJWNvbGxlY3Rpb25zX3JlbGV2X3RocmVzaG9sZD0xMDA2MDAwMDBiIGNvbGxlY3Rpb25zX3JldHVybl9ieV9nZW9pZD10cnVlYjlyZWFycj1zY2hlbWVfTG9jYWwvR2VvL0NvbGxlY3Rpb25zL01peEVhY2hOUG9zaXRpb249MTAwMDBiN3JlYXJyPXNjaGVtZV9Mb2NhbC9HZW8vQ29sbGVjdGlvbnMvRmlyc3RQb3NpdGlvblRvTWl4PTNiMnJlYXJyPXNjaGVtZV9Mb2NhbC9HZW8vQ29sbGVjdGlvbnMvRW5hYmxlZE1peD10cnVlYjlyZWFycj1zY2hlbWVfTG9jYWwvR2VvL1N1YnRpdGxlcy9Vc2VQaW5TdWJ0aXRsZXNGb3JtdWxhPTFqAmt6nQHNzEw9oAEAqAEAvQF3UKlfwgGHAZa2gqbsBouutbLBBdnbho8EjMeL56kFzueil7UFouna8R3c3daGswPV75v27AHEmP%2FpA7PD4I%2BHBNWQ1ucD2LG207oD6OqYzwTjjIqCBNy4ppBSxO7B%2BgPJm%2Bf17wOz%2BrKk8gWXzfWGBPvhv5UF0vDEkQW38ajdBrGv3%2B8E247F5GSItrSYBeoBAPIBAPgBAIICCtCh0L%2FQvtGA0YKKAkcxODQxMDczNjMkNDE0MzAwOTQxNzUkMTg0MTA3MzEzJDE4NDEwNzI5NyQxODQxMDcyNzUkMTg0MTA3MzE1JDE4NDEwNzM2MZICAJoCDGRlc2t0b3AtbWFwc6oC0gE2MDAzMTg0LDcwODE1OTI3MSwxOTAyNzY2MzM5MzgsMjU3MjIwMTc2LDE0MTE1NjA4NTE5MiwyMTE1MDY2NTg1OTUsNzE0MDg1NTg0NDUsMzgwOTU4NTY1NDEsMjA1MTY0OTYyNTUsMjQwMTIyMjU5ODMzLDIzODc0NDY2MjUyOCwxMDk3MDUwNzE3NzIsNzMyMTkzNTI0MjMsNzkwMDAyNDY1MjUsNDc4NzczNjA4LDI0MTg1MDExMiw4NDk1NjU2NTg5OCwxNTMwNDU0OTU5MDg%3D&sll=38.015708%2C55.966438&sspn=0.954436%2C0.392520&z=10.46\"\n",
    "\n",
    "# право низ\n",
    "url3 = \"https://yandex.ru/maps/213/moscow/search/%D0%A1%D0%BF%D0%BE%D1%80%D1%82/?filter=alternate_vertical%3ARequestWindow&ll=38.091385%2C55.580318&page=6&sctx=ZAAAAAgBEAAaKAoSCf%2FPYb687kJAERzPZ0C92UtAEhIJxFp8CoABFUARECVa8niaAEAiBgABAgMEBSgKOABA1QFIAWIyY29sbGVjdGlvbnNfcmFua2luZ19tb2RlbD1jb2xsZWN0aW9uc19yZWxldl93X2Rzc21iKWNvbGxlY3Rpb25zX3JhbmtpbmdfbW9kZWw9Y29sbF9yZWxfYXNzZXNzYiBjb2xsZWN0aW9uc19yZXR1cm5fYnlfZ2VvaWQ9dHJ1ZWIlY29sbGVjdGlvbnNfcmVsZXZfdGhyZXNob2xkPTEwMDcwMDAwMGIlY29sbGVjdGlvbnNfcmVsZXZfdGhyZXNob2xkPTEwMDYwMDAwMGI5cmVhcnI9c2NoZW1lX0xvY2FsL0dlby9Db2xsZWN0aW9ucy9NaXhFYWNoTlBvc2l0aW9uPTEwMDAwYjdyZWFycj1zY2hlbWVfTG9jYWwvR2VvL0NvbGxlY3Rpb25zL0ZpcnN0UG9zaXRpb25Ub01peD0zYjlyZWFycj1zY2hlbWVfTG9jYWwvR2VvL1N1YnRpdGxlcy9Vc2VQaW5TdWJ0aXRsZXNGb3JtdWxhPTFiMnJlYXJyPXNjaGVtZV9Mb2NhbC9HZW8vQ29sbGVjdGlvbnMvRW5hYmxlZE1peD10cnVlagJrep0BzcxMPaABAKgBAL0Bd1CpX8IBjgGuv868eO3r8KISiOvnn3GV5MvHmuir%2BZkBotHstvEBhbmHl%2BYGn7jPos0Fj5fVwwSOpNr4%2Bgbajoe2qgbfyampmwODoPSo6AHFpYaJBPq9qu2%2FBtywpLGiAqes7JDEBYHC0aqCBKy7wOID9NiKuwaw9dnrA9n54fAD%2B%2BG%2FlQWExYj2BLDCxspnpe%2Fax%2FUC6gEA8gEA%2BAEAggIK0KHQv9C%2B0YDRgooCRzE4NDEwNzM2MyQ0MTQzMDA5NDE3NSQxODQxMDczMTMkMTg0MTA3Mjk3JDE4NDEwNzI3NSQxODQxMDczMTUkMTg0MTA3MzYxkgIAmgIMZGVza3RvcC1tYXBzqgLTATYwMDMxODQsNzA4MTU5MjcxLDE5MDI3NjYzMzkzOCwyNTcyMjAxNzYsMTQxMTU2MDg1MTkyLDcxNDA4NTU4NDQ1LDM4MDk1ODU2NTQxLDI0MDEyMjI1OTgzMywyMzg3NDQ2NjI1MjgsMTA5NzA1MDcxNzcyLDczMjE5MzUyNDIzLDc5MDAwMjQ2NTI1LDIxMTgzMDEwNDE4OCwyMTE1MDY2NTg1OTUsNzA1NzcyNTg3NjEsMTk3MTg1NTg4NCw0Nzg3NzM2MDgsMjY1MzMzMjEwMTk%3D&sll=38.091385%2C55.580318&sspn=0.954436%2C0.396445&z=10.46\"\n",
    "\n",
    "# лево низ\n",
    "url4 = \"https://yandex.ru/maps/213/moscow/search/%D0%A1%D0%BF%D0%BE%D1%80%D1%82/?filter=alternate_vertical%3ARequestWindow&ll=37.299369%2C55.622507&page=6&sctx=ZAAAAAgBEAAaKAoSCf%2FPYb687kJAERzPZ0C92UtAEhIJxFp8CoABFUARECVa8niaAEAiBgABAgMEBSgKOABA1QFIAWIyY29sbGVjdGlvbnNfcmFua2luZ19tb2RlbD1jb2xsZWN0aW9uc19yZWxldl93X2Rzc21iKWNvbGxlY3Rpb25zX3JhbmtpbmdfbW9kZWw9Y29sbF9yZWxfYXNzZXNzYiBjb2xsZWN0aW9uc19yZXR1cm5fYnlfZ2VvaWQ9dHJ1ZWIlY29sbGVjdGlvbnNfcmVsZXZfdGhyZXNob2xkPTEwMDcwMDAwMGIlY29sbGVjdGlvbnNfcmVsZXZfdGhyZXNob2xkPTEwMDYwMDAwMGI5cmVhcnI9c2NoZW1lX0xvY2FsL0dlby9Db2xsZWN0aW9ucy9NaXhFYWNoTlBvc2l0aW9uPTEwMDAwYjdyZWFycj1zY2hlbWVfTG9jYWwvR2VvL0NvbGxlY3Rpb25zL0ZpcnN0UG9zaXRpb25Ub01peD0zYjlyZWFycj1zY2hlbWVfTG9jYWwvR2VvL1N1YnRpdGxlcy9Vc2VQaW5TdWJ0aXRsZXNGb3JtdWxhPTFiMnJlYXJyPXNjaGVtZV9Mb2NhbC9HZW8vQ29sbGVjdGlvbnMvRW5hYmxlZE1peD10cnVlagJrep0BzcxMPaABAKgBAL0Bd1CpX8IBjAGihLb%2BQvfs%2BKztBeL67PCCB5Xky8ea6Kv5mQHTtOT9nASt0fOQhwaOpvSDowLYn7T2A8KXlbaHB9Tb6Z8Ej57TkATvlZeABtTqqcNYoNy%2BjwS9kZfgA4Ws2vQEw8yl8APU5dXP2QH63OCvBID0iaAGponU2lXoxfHs6gb89vH4A%2FyhmoLjAbXMgLraAuoBAPIBAPgBAIICCtCh0L%2FQvtGA0YKKAkcxODQxMDczNjMkNDE0MzAwOTQxNzUkMTg0MTA3MzEzJDE4NDEwNzI5NyQxODQxMDcyNzUkMTg0MTA3MzE1JDE4NDEwNzM2MZICAJoCDGRlc2t0b3AtbWFwc6oC3AE2MDAzMTg0LDcwODE1OTI3MSwxOTAyNzY2MzM5MzgsMjU3MjIwMTc2LDE0MTE1NjA4NTE5Miw3MTQwODU1ODQ0NSwzODA5NTg1NjU0MSwyMzg3NDQ2NjI1MjgsMTA5NzA1MDcxNzcyLDczMjE5MzUyNDIzLDc5MDAwMjQ2NTI1LDIxMTgzMDEwNDE4OCwyMTE1MDY2NTg1OTUsNDc4NzczNjA4LDIwNTE2NDk2MjU1LDI0MTg1MDExMiw3MDU3NzI1ODc2MSwxOTcxODU1ODg0LDI2NTMzMzIxMDE5&sll=37.299369%2C55.622507&sspn=0.954436%2C0.396017&z=10.46\""
   ]
  },
  {
   "cell_type": "code",
   "execution_count": 9,
   "metadata": {},
   "outputs": [
    {
     "name": "stdout",
     "output_type": "stream",
     "text": [
      "time: 122 µs (started: 2023-06-11 13:44:50 +04:00)\n"
     ]
    }
   ],
   "source": [
    "list_of_all_places = []"
   ]
  },
  {
   "cell_type": "code",
   "execution_count": 13,
   "metadata": {},
   "outputs": [
    {
     "name": "stdout",
     "output_type": "stream",
     "text": [
      "time: 921 µs (started: 2023-06-11 16:08:18 +04:00)\n"
     ]
    }
   ],
   "source": [
    "url1_2_3_4 = []\n",
    "url1_2_3_4.append(url1)\n",
    "url1_2_3_4.append(url2)\n",
    "url1_2_3_4.append(url3)\n",
    "url1_2_3_4.append(url4)"
   ]
  },
  {
   "cell_type": "code",
   "execution_count": 19,
   "metadata": {},
   "outputs": [
    {
     "name": "stderr",
     "output_type": "stream",
     "text": [
      "100%|██████████| 200/200 [36:12<00:00, 10.86s/it]\n"
     ]
    },
    {
     "name": "stdout",
     "output_type": "stream",
     "text": [
      "Approx. number of places is 193\n"
     ]
    },
    {
     "name": "stderr",
     "output_type": "stream",
     "text": [
      "100%|██████████| 200/200 [36:21<00:00, 10.91s/it]\n"
     ]
    },
    {
     "name": "stdout",
     "output_type": "stream",
     "text": [
      "Approx. number of places is 294\n"
     ]
    },
    {
     "name": "stderr",
     "output_type": "stream",
     "text": [
      "100%|██████████| 200/200 [36:52<00:00, 11.06s/it]\n"
     ]
    },
    {
     "name": "stdout",
     "output_type": "stream",
     "text": [
      "Approx. number of places is 471\n"
     ]
    },
    {
     "name": "stderr",
     "output_type": "stream",
     "text": [
      "100%|██████████| 200/200 [37:21<00:00, 11.21s/it]"
     ]
    },
    {
     "name": "stdout",
     "output_type": "stream",
     "text": [
      "Approx. number of places is 587\n",
      "time: 2h 28min 11s (started: 2023-06-11 16:09:07 +04:00)\n"
     ]
    },
    {
     "name": "stderr",
     "output_type": "stream",
     "text": [
      "\n"
     ]
    }
   ],
   "source": [
    "for url in url1_2_3_4:\n",
    "\n",
    "    browser.get(url)\n",
    "    time.sleep(10)\n",
    "\n",
    "    # scroll in search page\n",
    "    try:\n",
    "        aa = browser.find_element(By.XPATH, \"//html/body/div/div/div[7]/div/div/div/div/div/div[2]/div[2]\")\n",
    "\n",
    "        action = ActionChains(browser)\n",
    "    except:\n",
    "        browser.refresh()\n",
    "        time.sleep(15)\n",
    "        aa = browser.find_element(By.XPATH, \"//html/body/div/div/div[7]/div/div/div/div/div/div[2]/div[2]\")\n",
    "        action = ActionChains(browser)\n",
    "\n",
    "\n",
    "    \n",
    "    count1 = 0\n",
    "\n",
    "    time.sleep(5)\n",
    "    for _ in tqdm(range(200)):\n",
    "        try:\n",
    "            action.click_and_hold(aa).move_by_offset(0,10).perform()\n",
    "        except:\n",
    "            try:\n",
    "                action.click_and_hold(aa).move_by_offset(0,5).perform()\n",
    "            except:\n",
    "                try:\n",
    "                    time.sleep(5)\n",
    "                    action.click_and_hold(aa).move_by_offset(0,2).perform()\n",
    "                except:\n",
    "                    pass\n",
    "        time.sleep(5)\n",
    "        list_of_all_places = get_content_places(list_of_all_places)\n",
    "        # action.release()\n",
    "        action.reset_actions()\n",
    "        time.sleep(5)\n",
    "    print(f'Approx. number of places is {len(list_of_all_places)}')"
   ]
  },
  {
   "cell_type": "code",
   "execution_count": 22,
   "metadata": {},
   "outputs": [
    {
     "name": "stdout",
     "output_type": "stream",
     "text": [
      "time: 1.8 s (started: 2023-06-11 18:54:33 +04:00)\n"
     ]
    }
   ],
   "source": [
    "list_of_all_places_name = []\n",
    "list_of_all_places_address = []\n",
    "list_of_all_places_link = []\n",
    "list_of_all_places_rating = []\n",
    "list_of_all_places_reviews_link = []\n",
    "list_of_all_places_number_of_reviews = []\n",
    "list_of_all_places_data_coordinates = []\n",
    "\n",
    "\n",
    "\n",
    "for item in list_of_all_places:\n",
    "    try:\n",
    "        list_of_all_places_name.append(str(item).split('<div class=\"search-business-snippet-view__title\">')[1].split(\"<\")[0])\n",
    "    except:\n",
    "        list_of_all_places_name.append(np.nan)\n",
    "\n",
    "    try:\n",
    "        list_of_all_places_address.append(str(item).split('search-business-snippet-view__address\">')[1].split(\"<\")[0])\n",
    "    except:\n",
    "        list_of_all_places_address.append(np.nan)\n",
    "    \n",
    "    try:\n",
    "        list_of_all_places_link.append(str(item).split('search-snippet-view__link-overlay _focusable\" href=\"')[1].split('\"')[0])\n",
    "    except:\n",
    "        list_of_all_places_link.append(np.nan)\n",
    "\n",
    "    try:\n",
    "        list_of_all_places_rating.append(str(item).split('business-rating-badge-view__rating-text _size_m\">')[1].split(\"<\")[0])\n",
    "    except:\n",
    "        list_of_all_places_rating.append(np.nan)\n",
    "\n",
    "    try:\n",
    "        list_of_all_places_reviews_link.append(str(item).split('search-business-snippet-view__rating\" href=\"')[1].split('\"')[0])\n",
    "    except:\n",
    "        list_of_all_places_reviews_link.append(np.nan)\n",
    "\n",
    "    try:\n",
    "        list_of_all_places_number_of_reviews.append(str(item).split('a11y-hidden\">')[2].split(' ')[0])\n",
    "    except:\n",
    "        list_of_all_places_number_of_reviews.append(np.nan)\n",
    "\n",
    "    try:\n",
    "        list_of_all_places_data_coordinates.append(str(item).split('data-coordinates=\"')[1].split('\"')[0])\n",
    "    except:\n",
    "        list_of_all_places_data_coordinates.append(np.nan)\n",
    "\n",
    "\n"
   ]
  },
  {
   "cell_type": "code",
   "execution_count": 38,
   "metadata": {},
   "outputs": [
    {
     "name": "stdout",
     "output_type": "stream",
     "text": [
      "time: 3.97 ms (started: 2023-06-11 18:57:51 +04:00)\n"
     ]
    }
   ],
   "source": [
    "df_all_places_yandex = pd.DataFrame(\n",
    "    {'Names': list_of_all_places_name,\n",
    "     'Address': list_of_all_places_address,\n",
    "     'Rating': list_of_all_places_rating,\n",
    "     'Link': list_of_all_places_link,\n",
    "     'Reviews_number': list_of_all_places_number_of_reviews,\n",
    "     'Reviews_link': list_of_all_places_reviews_link,\n",
    "     'Coordinates' : list_of_all_places_data_coordinates\n",
    "    })"
   ]
  },
  {
   "cell_type": "code",
   "execution_count": 39,
   "metadata": {},
   "outputs": [
    {
     "name": "stdout",
     "output_type": "stream",
     "text": [
      "<class 'pandas.core.frame.DataFrame'>\n",
      "RangeIndex: 587 entries, 0 to 586\n",
      "Data columns (total 7 columns):\n",
      " #   Column          Non-Null Count  Dtype \n",
      "---  ------          --------------  ----- \n",
      " 0   Names           587 non-null    object\n",
      " 1   Address         587 non-null    object\n",
      " 2   Rating          581 non-null    object\n",
      " 3   Link            587 non-null    object\n",
      " 4   Reviews_number  581 non-null    object\n",
      " 5   Reviews_link    581 non-null    object\n",
      " 6   Coordinates     587 non-null    object\n",
      "dtypes: object(7)\n",
      "memory usage: 32.2+ KB\n",
      "time: 27.6 ms (started: 2023-06-11 18:57:52 +04:00)\n"
     ]
    }
   ],
   "source": [
    "df_all_places_yandex.info()"
   ]
  },
  {
   "cell_type": "code",
   "execution_count": 41,
   "metadata": {},
   "outputs": [
    {
     "name": "stdout",
     "output_type": "stream",
     "text": [
      "time: 3.64 ms (started: 2023-06-11 18:57:54 +04:00)\n"
     ]
    }
   ],
   "source": [
    "df_all_places_yandex['Reviews_link'] = 'https://yandex.ru' + df_all_places_yandex['Reviews_link'].astype(str)\n",
    "df_all_places_yandex['Link'] = 'https://yandex.ru' + df_all_places_yandex['Link'].astype(str)\n",
    "df_all_places_yandex['Reviews_link'] = df_all_places_yandex['Reviews_link'].apply(lambda x: np.nan if x.endswith('nan') else x)"
   ]
  },
  {
   "cell_type": "code",
   "execution_count": 43,
   "metadata": {},
   "outputs": [
    {
     "name": "stdout",
     "output_type": "stream",
     "text": [
      "time: 3.02 ms (started: 2023-06-11 18:57:57 +04:00)\n"
     ]
    }
   ],
   "source": [
    "df_all_places_yandex = df_all_places_yandex.drop_duplicates().reset_index(drop=True)"
   ]
  },
  {
   "cell_type": "code",
   "execution_count": 30,
   "metadata": {},
   "outputs": [
    {
     "name": "stdout",
     "output_type": "stream",
     "text": [
      "time: 13.1 ms (started: 2023-06-11 18:55:06 +04:00)\n"
     ]
    }
   ],
   "source": [
    "df_all_places_yandex.to_csv('all_places5.csv', encoding='utf-8', index=False, sep=';')"
   ]
  },
  {
   "cell_type": "code",
   "execution_count": 47,
   "metadata": {},
   "outputs": [
    {
     "name": "stdout",
     "output_type": "stream",
     "text": [
      "time: 4.41 ms (started: 2023-06-11 18:58:26 +04:00)\n"
     ]
    },
    {
     "name": "stderr",
     "output_type": "stream",
     "text": [
      "/var/folders/sm/ldtvx1w92l54b3bt647l1jkw0000gn/T/ipykernel_1492/2857152237.py:1: FutureWarning: The frame.append method is deprecated and will be removed from pandas in a future version. Use pandas.concat instead.\n",
      "  df_all_places_yandex = df_all_places_yandex.append(pd.read_csv('all_places3.csv', encoding='utf-8', sep=';'))\n"
     ]
    }
   ],
   "source": [
    "df_all_places_yandex = df_all_places_yandex.append(pd.read_csv('all_places3.csv', encoding='utf-8', sep=';'))"
   ]
  },
  {
   "cell_type": "code",
   "execution_count": 35,
   "metadata": {},
   "outputs": [
    {
     "name": "stdout",
     "output_type": "stream",
     "text": [
      "time: 1.99 ms (started: 2023-06-11 18:56:52 +04:00)\n"
     ]
    }
   ],
   "source": [
    "df_all_places_yandex = df_all_places_yandex.replace('\\n','', regex=True)\n",
    "df_all_places_yandex = df_all_places_yandex.replace('\\t','', regex=True)"
   ]
  },
  {
   "cell_type": "code",
   "execution_count": 59,
   "metadata": {},
   "outputs": [
    {
     "name": "stdout",
     "output_type": "stream",
     "text": [
      "time: 9.53 ms (started: 2023-06-11 19:11:23 +04:00)\n"
     ]
    }
   ],
   "source": [
    "df_all_places_yandex = df_all_places_yandex.drop_duplicates(subset='Link').reset_index(drop=True)"
   ]
  },
  {
   "cell_type": "code",
   "execution_count": 60,
   "metadata": {},
   "outputs": [
    {
     "name": "stdout",
     "output_type": "stream",
     "text": [
      "<class 'pandas.core.frame.DataFrame'>\n",
      "RangeIndex: 450 entries, 0 to 449\n",
      "Data columns (total 7 columns):\n",
      " #   Column          Non-Null Count  Dtype  \n",
      "---  ------          --------------  -----  \n",
      " 0   Names           450 non-null    object \n",
      " 1   Address         450 non-null    object \n",
      " 2   Rating          447 non-null    object \n",
      " 3   Link            450 non-null    object \n",
      " 4   Reviews_number  447 non-null    float64\n",
      " 5   Reviews_link    447 non-null    object \n",
      " 6   Coordinates     450 non-null    object \n",
      "dtypes: float64(1), object(6)\n",
      "memory usage: 24.7+ KB\n",
      "time: 15 ms (started: 2023-06-11 19:11:24 +04:00)\n"
     ]
    }
   ],
   "source": [
    "df_all_places_yandex.info()"
   ]
  },
  {
   "cell_type": "code",
   "execution_count": 61,
   "metadata": {},
   "outputs": [
    {
     "name": "stdout",
     "output_type": "stream",
     "text": [
      "time: 451 µs (started: 2023-06-11 19:11:27 +04:00)\n"
     ]
    }
   ],
   "source": [
    "df_all_places_yandex[\"Reviews_number\"] = pd.to_numeric(df_all_places_yandex[\"Reviews_number\"])"
   ]
  },
  {
   "cell_type": "code",
   "execution_count": 63,
   "metadata": {},
   "outputs": [
    {
     "name": "stdout",
     "output_type": "stream",
     "text": [
      "time: 1.14 ms (started: 2023-06-11 19:11:59 +04:00)\n"
     ]
    }
   ],
   "source": [
    "df_all_places_yandex = df_all_places_yandex.sort_values(by=['Reviews_number'], ascending=False).reset_index(drop=True)"
   ]
  },
  {
   "cell_type": "code",
   "execution_count": 35,
   "metadata": {},
   "outputs": [],
   "source": [
    "df_all_places_yandex = pd.read_csv('all_places_sorted_v1.csv', encoding='utf-8', sep=';')"
   ]
  },
  {
   "cell_type": "code",
   "execution_count": 36,
   "metadata": {},
   "outputs": [],
   "source": [
    "df_all_places_yandex.to_excel('file1.xlsx', index=True, header=True)"
   ]
  },
  {
   "cell_type": "code",
   "execution_count": 10,
   "metadata": {},
   "outputs": [
    {
     "name": "stdout",
     "output_type": "stream",
     "text": [
      "time: 471 µs (started: 2023-06-13 15:48:28 +04:00)\n"
     ]
    }
   ],
   "source": [
    "def get_content_reviews():\n",
    "    html_source = browser.page_source\n",
    "    soup = BeautifulSoup(html_source, \"html.parser\")\n",
    "    \n",
    "    reviews = list(soup.find_all(\"span\", {\"class\": \"business-review-view__body-text\"}))\n",
    "    date = list(soup.find_all(\"meta\", attrs={\"itemprop\":\"datePublished\"}))\n",
    "\n",
    "    list_of_reviews = []\n",
    "    list_of_dates = []\n",
    "\n",
    "    for i in range(len(reviews)):\n",
    "        list_of_reviews.append(str(reviews[i])[46:-7])\n",
    "        list_of_dates.append(str(date).split('\"')[1])\n",
    "\n",
    "    return(list(set(list_of_reviews)), list(set(list_of_dates)))"
   ]
  },
  {
   "cell_type": "code",
   "execution_count": 16,
   "metadata": {},
   "outputs": [
    {
     "name": "stdout",
     "output_type": "stream",
     "text": [
      "time: 566 µs (started: 2023-06-13 15:54:39 +04:00)\n"
     ]
    }
   ],
   "source": [
    "# scroll in reviews page\n",
    "def scroll_reviews_and_save():\n",
    "    list_of_all_reviews = []\n",
    "    list_of_all_dates = []\n",
    "\n",
    "    try:\n",
    "        aa = browser.find_element(By.XPATH, \"//html/body/div/div[2]/div[7]/div/div/div/div/div[2]/div[2]\")\n",
    "\n",
    "        action = ActionChains(browser)\n",
    "    except:\n",
    "        browser.refresh()\n",
    "        time.sleep(15)\n",
    "        aa = browser.find_element(By.XPATH, \"//html/body/div/div[2]/div[7]/div/div/div/div/div[2]/div[2]\")\n",
    "\n",
    "        action = ActionChains(browser)\n",
    "\n",
    "    count2 = 0\n",
    "    for j in range(100):\n",
    "        if count2 > 2:\n",
    "            pass\n",
    "        else:\n",
    "            try:\n",
    "                action.click_and_hold(aa).move_by_offset(0,5).perform()\n",
    "                # time.sleep(0.2)\n",
    "                # action.release()\n",
    "            except:\n",
    "                try:\n",
    "                    action.click_and_hold(aa).move_by_offset(0,2).perform()\n",
    "                    # time.sleep(0.2)\n",
    "                    # action.release()\n",
    "                except:\n",
    "                    try:\n",
    "                        time.sleep(5)\n",
    "                        action.click_and_hold(aa).move_by_offset(0,1).perform()\n",
    "                        # time.sleep(0.2)\n",
    "                        # action.release()\n",
    "                    except:\n",
    "                        count2 += 1\n",
    "                        pass\n",
    "        \n",
    "        list_of_reviews, list_of_dates = get_content_reviews()\n",
    "\n",
    "        action.reset_actions()\n",
    "        time.sleep(5)\n",
    "        list_of_all_reviews.extend(list_of_reviews)\n",
    "        list_of_all_dates.extend(list_of_dates)\n",
    "    return(list_of_all_reviews, list_of_all_dates)"
   ]
  },
  {
   "cell_type": "code",
   "execution_count": 17,
   "metadata": {},
   "outputs": [
    {
     "name": "stdout",
     "output_type": "stream",
     "text": [
      "time: 170 µs (started: 2023-06-13 15:54:41 +04:00)\n"
     ]
    }
   ],
   "source": [
    "dict_reviews = {}\n",
    "dict_dates = {}"
   ]
  },
  {
   "cell_type": "code",
   "execution_count": 18,
   "metadata": {},
   "outputs": [
    {
     "name": "stderr",
     "output_type": "stream",
     "text": [
      "100%|██████████| 90/90 [15:31:33<00:00, 621.04s/it]  "
     ]
    },
    {
     "name": "stdout",
     "output_type": "stream",
     "text": [
      "time: 15h 31min 49s (started: 2023-06-13 15:55:01 +04:00)\n"
     ]
    },
    {
     "name": "stderr",
     "output_type": "stream",
     "text": [
      "\n"
     ]
    }
   ],
   "source": [
    "time.sleep(15)\n",
    "for i in tqdm(range(int(len(df_all_places_yandex)*0.20))):\n",
    "\n",
    "    url = df_all_places_yandex['Reviews_link'][i]\n",
    "    if url is np.nan:\n",
    "        print(\"can't open\")\n",
    "    else:\n",
    "        browser.get(url)\n",
    "        time.sleep(15)\n",
    "        \n",
    "        try:\n",
    "            reviews, dates = scroll_reviews_and_save()\n",
    "        except:\n",
    "            browser.get(url)\n",
    "            time.sleep(20)\n",
    "            reviews, dates = scroll_reviews_and_save()\n",
    "\n",
    "        reviews_dict_technical = dict(zip(reviews, dates))\n",
    "        new_reviews, new_dates = zip(*list(reviews_dict_technical.items()))\n",
    "        \n",
    "        dict_reviews[str(i) + \"_\" + df_all_places_yandex['Names'][i]] = new_reviews\n",
    "        dict_dates[str(i) + \"_\" + df_all_places_yandex['Names'][i]] = new_dates\n",
    "        time.sleep(20)\n",
    "\n",
    "        # close new tab\n",
    "        # browser.close()"
   ]
  },
  {
   "cell_type": "code",
   "execution_count": 23,
   "metadata": {},
   "outputs": [
    {
     "data": {
      "text/plain": [
       "dict_keys(['0_Чайка', '1_Южный лёд', '2_СССР', '3_A-Fitness', '4_Московский центр боевых искусств', '5_ДелоСпорт', '6_Янтарь', '7_Центр развития водного стадиона Динамо', '8_Олимпик Фитнес', '9_Дворец спорта Динамо', '10_Триумф', '11_La Salute Люблино', '12_Фитнес СССР', '13_Труд', '14_Зебра', '15_Фитнес СССР', '16_СК МГТУ', '17_ДЮСШ Крылья', '18_Формула воды', '19_World Class', '20_ГБУ ДО Мксшор Запад', '21_Gofit club', '22_Фитнес-клуб Физика', '23_I Love Fitness', '24_Фитнес СССР', '25_Ленин', '26_Janinn Fitness', '27_Зебра', '28_Фитнес Парк', '29_Альфа-Битца', '30_Фитнес СССР', '31_Территория Фитнеса', '32_WeGym', '33_Фитнес СССР', '34_XFit Планета', '35_Арт-Спорт', '36_Fitnessavenue', '37_СССР', '38_Дубровка Фитнес', '39_Фитнес СССР', '40_XFit', '41_Онегинъ', '42_Дворец спорта Пушкино', '43_Салют Гераклион', '44_50gym', '45_Фитнес практика Динамо', '46_DDX FITNESS', '47_Wellness Park', '48_Палестра Спорт', '49_Фитнес СССР', '50_WeGym', '51_Sportown', '52_ГБУ СШОР № 2 Москомспорта', '53_Спортивный комплекс Косино', '54_СССР', '55_Ultra Fitness', '56_Дружба', '57_The Base Fitness', '58_Донспорт', '59_WeGym', '60_Дворец спорта Лобня', '61_Spirit', '62_Чертаново', '63_Дворец детского спорта', '64_Spirit', '65_Серебряные акулы', '66_Lomov Gym', '67_Измайлово', '68_СВ фитнес', '69_Number One Fit', '70_La Salute Таганка', '71_Территория Фитнеса', '72_Резиденция', '73_Олимп', '74_DDX FITNESS', '75_LifeClub', '76_DDX FITNESS', '77_Дворец спорта МИИТ', '78_ЦСиО Самбо-70 Москомспорта, отделение Юность', '79_Фитнес СССР', '80_TopFit', '81_Спортивный комплекс Академический', '82_Союз', '83_Masters', '84_Фитнес СССР', '85_Фитнес СССР', '86_Новая Лига', '87_Powerhouse Gym', '88_Премьер Спорт', '89_Спортивная школа № 104 Жемчужина Москомспорта'])"
      ]
     },
     "execution_count": 23,
     "metadata": {},
     "output_type": "execute_result"
    },
    {
     "name": "stdout",
     "output_type": "stream",
     "text": [
      "time: 3.32 ms (started: 2023-06-14 08:06:07 +04:00)\n"
     ]
    }
   ],
   "source": [
    "dict_reviews.keys()"
   ]
  },
  {
   "cell_type": "code",
   "execution_count": 24,
   "metadata": {},
   "outputs": [
    {
     "data": {
      "text/plain": [
       "90"
      ]
     },
     "execution_count": 24,
     "metadata": {},
     "output_type": "execute_result"
    },
    {
     "name": "stdout",
     "output_type": "stream",
     "text": [
      "time: 1.71 ms (started: 2023-06-14 08:06:08 +04:00)\n"
     ]
    }
   ],
   "source": [
    "len(dict_reviews.keys())"
   ]
  },
  {
   "cell_type": "code",
   "execution_count": 21,
   "metadata": {},
   "outputs": [
    {
     "name": "stdout",
     "output_type": "stream",
     "text": [
      "time: 7.63 ms (started: 2023-06-14 07:26:50 +04:00)\n"
     ]
    }
   ],
   "source": [
    "file = open(\"dictionary_text6.txt\", \"wb\")\n",
    "# serializing dictionary \n",
    "pickle.dump(dict_reviews, file)\n",
    "# closing the file\n",
    "file.close()\n",
    "# reading the data from the file\n"
   ]
  },
  {
   "cell_type": "code",
   "execution_count": 22,
   "metadata": {},
   "outputs": [
    {
     "name": "stdout",
     "output_type": "stream",
     "text": [
      "time: 974 µs (started: 2023-06-14 07:26:50 +04:00)\n"
     ]
    }
   ],
   "source": [
    "file = open(\"dictionary_dates6.txt\", \"wb\")\n",
    "# serializing dictionary \n",
    "pickle.dump(dict_dates, file)\n",
    "# closing the file\n",
    "file.close()\n",
    "# reading the data from the file\n"
   ]
  },
  {
   "cell_type": "code",
   "execution_count": 28,
   "metadata": {},
   "outputs": [],
   "source": [
    "with open('dictionary_text6.txt', 'rb') as handle:\n",
    "    data = handle.read()\n",
    "d = pickle.loads(data)\n",
    "with open('dictionary_dates6.txt', 'rb') as handle:\n",
    "    data = handle.read()\n",
    "date = pickle.loads(data)"
   ]
  },
  {
   "cell_type": "code",
   "execution_count": 6,
   "metadata": {},
   "outputs": [],
   "source": [
    "from polyglot.text import Text as T"
   ]
  },
  {
   "cell_type": "code",
   "execution_count": 8,
   "metadata": {},
   "outputs": [],
   "source": [
    "keys = list(d.keys())\n",
    "polarity_list = []\n",
    "for key in keys:\n",
    "    for review in d[key]:\n",
    "        text = T(review, hint_language_code='ru')\n",
    "        try:\n",
    "            text_polarity = text.polarity\n",
    "        except ZeroDivisionError:\n",
    "            text_polarity = 0\n",
    "\n",
    "        polarity_list.append(text_polarity)"
   ]
  },
  {
   "cell_type": "code",
   "execution_count": 9,
   "metadata": {},
   "outputs": [
    {
     "name": "stdout",
     "output_type": "stream",
     "text": [
      "1.0 -1.0 0.43027717962863093\n"
     ]
    }
   ],
   "source": [
    "print(np.max(polarity_list), np.min(polarity_list), np.mean(polarity_list))"
   ]
  },
  {
   "cell_type": "code",
   "execution_count": 16,
   "metadata": {},
   "outputs": [],
   "source": [
    "df = pd.DataFrame.from_dict(d, orient = 'index')\n",
    "\n",
    "new_df = df.stack().reset_index(level=1, drop=True).to_frame(name='Review')"
   ]
  },
  {
   "cell_type": "code",
   "execution_count": 34,
   "metadata": {},
   "outputs": [
    {
     "data": {
      "text/html": [
       "<div>\n",
       "<style scoped>\n",
       "    .dataframe tbody tr th:only-of-type {\n",
       "        vertical-align: middle;\n",
       "    }\n",
       "\n",
       "    .dataframe tbody tr th {\n",
       "        vertical-align: top;\n",
       "    }\n",
       "\n",
       "    .dataframe thead th {\n",
       "        text-align: right;\n",
       "    }\n",
       "</style>\n",
       "<table border=\"1\" class=\"dataframe\">\n",
       "  <thead>\n",
       "    <tr style=\"text-align: right;\">\n",
       "      <th></th>\n",
       "      <th>Review</th>\n",
       "      <th>Polarity</th>\n",
       "      <th>Date</th>\n",
       "    </tr>\n",
       "  </thead>\n",
       "  <tbody>\n",
       "    <tr>\n",
       "      <th>0_Чайка</th>\n",
       "      <td>Хорошее место в центре города. Зимой очень атм...</td>\n",
       "      <td>0.0</td>\n",
       "      <td>2023-01-05T20:46:42.237Z</td>\n",
       "    </tr>\n",
       "    <tr>\n",
       "      <th>0_Чайка</th>\n",
       "      <td>Были в этом комплексе в марте. Всё очень понра...</td>\n",
       "      <td>0.0</td>\n",
       "      <td>2023-01-05T20:46:42.237Z</td>\n",
       "    </tr>\n",
       "    <tr>\n",
       "      <th>0_Чайка</th>\n",
       "      <td>Бассейн «Чайка» - легендарнейшее строение сове...</td>\n",
       "      <td>0.5</td>\n",
       "      <td>2023-01-05T20:46:42.237Z</td>\n",
       "    </tr>\n",
       "    <tr>\n",
       "      <th>0_Чайка</th>\n",
       "      <td>Открытый бассейн в центре Москвы - это круто. ...</td>\n",
       "      <td>0.6</td>\n",
       "      <td>2023-01-05T20:46:42.237Z</td>\n",
       "    </tr>\n",
       "    <tr>\n",
       "      <th>0_Чайка</th>\n",
       "      <td>Хорошая мужская сауна, в которую часто одни и ...</td>\n",
       "      <td>-1.0</td>\n",
       "      <td>2023-01-05T20:46:42.237Z</td>\n",
       "    </tr>\n",
       "    <tr>\n",
       "      <th>...</th>\n",
       "      <td>...</td>\n",
       "      <td>...</td>\n",
       "      <td>...</td>\n",
       "    </tr>\n",
       "    <tr>\n",
       "      <th>89_Спортивная школа № 104 Жемчужина Москомспорта</th>\n",
       "      <td>Отличный бассейн. Чисто, глубоко и всегда хоро...</td>\n",
       "      <td>1.0</td>\n",
       "      <td>2023-03-15T18:53:29.192Z</td>\n",
       "    </tr>\n",
       "    <tr>\n",
       "      <th>89_Спортивная школа № 104 Жемчужина Москомспорта</th>\n",
       "      <td>Бассейн старый все обветшало но это полбеды. У...</td>\n",
       "      <td>0.0</td>\n",
       "      <td>2023-03-15T18:53:29.192Z</td>\n",
       "    </tr>\n",
       "    <tr>\n",
       "      <th>89_Спортивная школа № 104 Жемчужина Москомспорта</th>\n",
       "      <td>Ранее водила сюда внучку , ребенок с ограничен...</td>\n",
       "      <td>-0.2</td>\n",
       "      <td>2023-03-15T18:53:29.192Z</td>\n",
       "    </tr>\n",
       "    <tr>\n",
       "      <th>89_Спортивная школа № 104 Жемчужина Москомспорта</th>\n",
       "      <td>Давно не была. Несколько лет. Из минусов вода ...</td>\n",
       "      <td>0.0</td>\n",
       "      <td>2023-03-15T18:53:29.192Z</td>\n",
       "    </tr>\n",
       "    <tr>\n",
       "      <th>89_Спортивная школа № 104 Жемчужина Москомспорта</th>\n",
       "      <td>Это лучший бассейн по соотношению цена и качес...</td>\n",
       "      <td>1.0</td>\n",
       "      <td>2023-03-15T18:53:29.192Z</td>\n",
       "    </tr>\n",
       "  </tbody>\n",
       "</table>\n",
       "<p>4500 rows × 3 columns</p>\n",
       "</div>"
      ],
      "text/plain": [
       "                                                                                             Review  \\\n",
       "0_Чайка                                           Хорошее место в центре города. Зимой очень атм...   \n",
       "0_Чайка                                           Были в этом комплексе в марте. Всё очень понра...   \n",
       "0_Чайка                                           Бассейн «Чайка» - легендарнейшее строение сове...   \n",
       "0_Чайка                                           Открытый бассейн в центре Москвы - это круто. ...   \n",
       "0_Чайка                                           Хорошая мужская сауна, в которую часто одни и ...   \n",
       "...                                                                                             ...   \n",
       "89_Спортивная школа № 104 Жемчужина Москомспорта  Отличный бассейн. Чисто, глубоко и всегда хоро...   \n",
       "89_Спортивная школа № 104 Жемчужина Москомспорта  Бассейн старый все обветшало но это полбеды. У...   \n",
       "89_Спортивная школа № 104 Жемчужина Москомспорта  Ранее водила сюда внучку , ребенок с ограничен...   \n",
       "89_Спортивная школа № 104 Жемчужина Москомспорта  Давно не была. Несколько лет. Из минусов вода ...   \n",
       "89_Спортивная школа № 104 Жемчужина Москомспорта  Это лучший бассейн по соотношению цена и качес...   \n",
       "\n",
       "                                                  Polarity  \\\n",
       "0_Чайка                                                0.0   \n",
       "0_Чайка                                                0.0   \n",
       "0_Чайка                                                0.5   \n",
       "0_Чайка                                                0.6   \n",
       "0_Чайка                                               -1.0   \n",
       "...                                                    ...   \n",
       "89_Спортивная школа № 104 Жемчужина Москомспорта       1.0   \n",
       "89_Спортивная школа № 104 Жемчужина Москомспорта       0.0   \n",
       "89_Спортивная школа № 104 Жемчужина Москомспорта      -0.2   \n",
       "89_Спортивная школа № 104 Жемчужина Москомспорта       0.0   \n",
       "89_Спортивная школа № 104 Жемчужина Москомспорта       1.0   \n",
       "\n",
       "                                                                      Date  \n",
       "0_Чайка                                           2023-01-05T20:46:42.237Z  \n",
       "0_Чайка                                           2023-01-05T20:46:42.237Z  \n",
       "0_Чайка                                           2023-01-05T20:46:42.237Z  \n",
       "0_Чайка                                           2023-01-05T20:46:42.237Z  \n",
       "0_Чайка                                           2023-01-05T20:46:42.237Z  \n",
       "...                                                                    ...  \n",
       "89_Спортивная школа № 104 Жемчужина Москомспорта  2023-03-15T18:53:29.192Z  \n",
       "89_Спортивная школа № 104 Жемчужина Москомспорта  2023-03-15T18:53:29.192Z  \n",
       "89_Спортивная школа № 104 Жемчужина Москомспорта  2023-03-15T18:53:29.192Z  \n",
       "89_Спортивная школа № 104 Жемчужина Москомспорта  2023-03-15T18:53:29.192Z  \n",
       "89_Спортивная школа № 104 Жемчужина Москомспорта  2023-03-15T18:53:29.192Z  \n",
       "\n",
       "[4500 rows x 3 columns]"
      ]
     },
     "execution_count": 34,
     "metadata": {},
     "output_type": "execute_result"
    }
   ],
   "source": [
    "new_df['Polarity'] = polarity_list\n",
    "new_df['Date'] = [date for sublist in date.values() for date in sublist]\n",
    "new_df"
   ]
  },
  {
   "cell_type": "code",
   "execution_count": 26,
   "metadata": {},
   "outputs": [],
   "source": [
    "new_df.to_excel('file2.xlsx', index=True, header=True)"
   ]
  },
  {
   "cell_type": "code",
   "execution_count": 70,
   "metadata": {},
   "outputs": [
    {
     "name": "stdout",
     "output_type": "stream",
     "text": [
      "time: 843 ms (started: 2023-06-11 23:41:56 +04:00)\n"
     ]
    }
   ],
   "source": [
    "browser.quit() # kill browser"
   ]
  },
  {
   "cell_type": "code",
   "execution_count": null,
   "metadata": {},
   "outputs": [],
   "source": []
  }
 ],
 "metadata": {
  "kernelspec": {
   "display_name": "Python 3",
   "language": "python",
   "name": "python3"
  },
  "language_info": {
   "codemirror_mode": {
    "name": "ipython",
    "version": 3
   },
   "file_extension": ".py",
   "mimetype": "text/x-python",
   "name": "python",
   "nbconvert_exporter": "python",
   "pygments_lexer": "ipython3",
   "version": "3.11.2"
  },
  "orig_nbformat": 4,
  "vscode": {
   "interpreter": {
    "hash": "aee8b7b246df8f9039afb4144a1f6fd8d2ca17a180786b69acc140d282b71a49"
   }
  }
 },
 "nbformat": 4,
 "nbformat_minor": 2
}
